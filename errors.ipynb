{
 "cells": [
  {
   "metadata": {},
   "cell_type": "markdown",
   "source": [
    "# Time tree errors \n",
    "Calculates timed tree errors given ground truth and estimated time t"
   ],
   "id": "8b43dd9324d31df7"
  },
  {
   "metadata": {},
   "cell_type": "markdown",
   "source": "### File input",
   "id": "d1a44d07ac003225"
  },
  {
   "metadata": {
    "ExecuteTime": {
     "end_time": "2024-08-12T10:30:45.320555Z",
     "start_time": "2024-08-12T10:30:45.313385Z"
    }
   },
   "cell_type": "code",
   "source": [
    "from Bio import Phylo\n",
    "import pandas as pd\n",
    "import numpy as np"
   ],
   "id": "4a492792f8a543af",
   "outputs": [],
   "execution_count": 7
  },
  {
   "metadata": {
    "ExecuteTime": {
     "end_time": "2024-08-12T11:07:36.997957Z",
     "start_time": "2024-08-12T11:07:36.977344Z"
    }
   },
   "cell_type": "code",
   "source": [
    "# Path to SuperSimPy simulation data\n",
    "sim_data_path = '/home/joel/EBI/SuperSimPy/data/'\n",
    "# Path to estimated time tree in Newick format\n",
    "estimated_time_tree_path = '/home/joel/EBI/SuperSimPy/data/sim.fasta.timetree.nwk'\n",
    "# Time estimated tree starts from\n",
    "root_time = 0\n",
    "\n",
    "metadata = pd.read_csv(sim_data_path + 'newick_output_metadata.tsv', sep='\\t',\n",
    "                       dtype={'strain': str, 'location': str, 'time': float})\n",
    "tree = Phylo.read(estimated_time_tree_path, 'newick', rooted=True)"
   ],
   "id": "3a9c50826570f3b6",
   "outputs": [],
   "execution_count": 50
  },
  {
   "metadata": {},
   "cell_type": "markdown",
   "source": [
    "### Error function\n",
    "This defines the error function on the node times, and so can be changed in place to calculate a new error metric."
   ],
   "id": "b5de583d57d62b81"
  },
  {
   "metadata": {
    "ExecuteTime": {
     "end_time": "2024-08-12T10:31:35.140966Z",
     "start_time": "2024-08-12T10:31:35.131672Z"
    }
   },
   "cell_type": "code",
   "source": [
    "def error(node_values, true_values):\n",
    "    \"\"\"\n",
    "    Error function.\n",
    "    :param node_values: \n",
    "    :param true_values: \n",
    "    :return: \n",
    "    \"\"\"\n",
    "    return np.abs(node_values - true_values) / len(node_values)"
   ],
   "id": "529a56ff15451a4e",
   "outputs": [],
   "execution_count": 8
  },
  {
   "metadata": {},
   "cell_type": "markdown",
   "source": [
    "### Data aggregation \n",
    "This part just gets the data into a format the error function can use"
   ],
   "id": "e363b9f933c69eb2"
  },
  {
   "metadata": {
    "ExecuteTime": {
     "end_time": "2024-08-12T13:08:31.154157Z",
     "start_time": "2024-08-12T13:08:31.139832Z"
    }
   },
   "cell_type": "code",
   "source": [
    "est_node_names = []\n",
    "est_node_times = []\n",
    "def depth_first(root, current_time=root_time):\n",
    "    \"\"\"\n",
    "    Calculate node times from using recursive depth-first search.\n",
    "    TODO: change this to iterative DFS\n",
    "    :param tree: \n",
    "    :return: \n",
    "    \"\"\"\n",
    "    global index\n",
    "    new_time = current_time + root.branch_length if root.branch_length else current_time\n",
    "    est_node_names.append( str(root.name) if root.name else None) \n",
    "    est_node_times.append(new_time)\n",
    "    for clade in root.clades:\n",
    "        depth_first(clade, new_time)\n",
    "depth_first(tree.clade, 0)\n",
    "est_node_names = np.array(est_node_names)\n",
    "est_node_times = np.array(est_node_times)"
   ],
   "id": "7bc417decb3a3cd4",
   "outputs": [],
   "execution_count": 57
  },
  {
   "metadata": {
    "ExecuteTime": {
     "end_time": "2024-08-12T13:09:39.702650Z",
     "start_time": "2024-08-12T13:09:39.681092Z"
    }
   },
   "cell_type": "code",
   "source": [
    "mask = est_node_names != None\n",
    "est_node_names = est_node_names[mask]\n",
    "est_node_times = est_node_times[mask]\n",
    "len(est_node_names)"
   ],
   "id": "96b68f52abaa9756",
   "outputs": [
    {
     "data": {
      "text/plain": [
       "101"
      ]
     },
     "execution_count": 63,
     "metadata": {},
     "output_type": "execute_result"
    }
   ],
   "execution_count": 63
  }
 ],
 "metadata": {
  "kernelspec": {
   "display_name": "Python 3",
   "language": "python",
   "name": "python3"
  },
  "language_info": {
   "codemirror_mode": {
    "name": "ipython",
    "version": 2
   },
   "file_extension": ".py",
   "mimetype": "text/x-python",
   "name": "python",
   "nbconvert_exporter": "python",
   "pygments_lexer": "ipython2",
   "version": "2.7.6"
  }
 },
 "nbformat": 4,
 "nbformat_minor": 5
}
