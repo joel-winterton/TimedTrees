{
 "cells": [
  {
   "metadata": {},
   "cell_type": "markdown",
   "source": [
    "# Least Squares Dating \n",
    "This script reformats simulation data that is outputted from SuperSimPy into a format that IQTree will accept. \n",
    "\n",
    "Method data being prepared for: \n",
    "\n",
    "*Thu-Hien To, Matthieu Jung, Samantha Lycett, Olivier Gascuel, Fast Dating Using Least-Squares Criteria and Algorithms, Systematic Biology, Volume 65, Issue 1, January 2016, Pages 82–97, https://doi.org/10.1093/sysbio/syv068*"
   ],
   "id": "bd888186f9fe41ed"
  },
  {
   "metadata": {
    "ExecuteTime": {
     "end_time": "2024-08-01T12:38:52.824217Z",
     "start_time": "2024-08-01T12:38:52.809147Z"
    }
   },
   "cell_type": "code",
   "source": [
    "# Enter the absolute path of the directory with all the SuperSimPy output data in it\n",
    "sim_data_path = '/home/joel/EBI/SuperSimPy/data/'"
   ],
   "id": "e98583fc5e57b828",
   "outputs": [],
   "execution_count": 11
  },
  {
   "metadata": {},
   "cell_type": "markdown",
   "source": [
    "The outputted file from this script is referred to as \"datefile\". \n",
    "The command to run after this data is then (inside the datafolder): \n",
    "\n",
    "```iqtree2 -s sim.txt --date datefile.txt -te newick_output_tree.nwk```"
   ],
   "id": "79d3992048bc7a19"
  },
  {
   "cell_type": "code",
   "id": "initial_id",
   "metadata": {
    "collapsed": true,
    "ExecuteTime": {
     "end_time": "2024-08-01T14:10:46.160846Z",
     "start_time": "2024-08-01T14:10:46.083732Z"
    }
   },
   "source": [
    "import pandas as pd\n",
    "sim_metadata = pd.read_csv(sim_data_path+'newick_output_metadata.tsv', sep='\\t')\n",
    "date_data = sim_metadata[['strain','time']]\n",
    "date_data.to_csv(sim_data_path + 'datefile.txt', index=False, sep='\\t', header=None)"
   ],
   "outputs": [
    {
     "data": {
      "text/plain": [
       "    strain      time\n",
       "0     $200  0.000000\n",
       "1      187  2.539365\n",
       "2      152  4.033053\n",
       "3       63  8.700728\n",
       "4      132  4.927104\n",
       "..     ...       ...\n",
       "196      8  9.756861\n",
       "197     17  9.662923\n",
       "198    186  2.562060\n",
       "199     85  7.986521\n",
       "200     95  7.311334\n",
       "\n",
       "[201 rows x 2 columns]"
      ],
      "text/html": [
       "<div>\n",
       "<style scoped>\n",
       "    .dataframe tbody tr th:only-of-type {\n",
       "        vertical-align: middle;\n",
       "    }\n",
       "\n",
       "    .dataframe tbody tr th {\n",
       "        vertical-align: top;\n",
       "    }\n",
       "\n",
       "    .dataframe thead th {\n",
       "        text-align: right;\n",
       "    }\n",
       "</style>\n",
       "<table border=\"1\" class=\"dataframe\">\n",
       "  <thead>\n",
       "    <tr style=\"text-align: right;\">\n",
       "      <th></th>\n",
       "      <th>strain</th>\n",
       "      <th>time</th>\n",
       "    </tr>\n",
       "  </thead>\n",
       "  <tbody>\n",
       "    <tr>\n",
       "      <th>0</th>\n",
       "      <td>$200</td>\n",
       "      <td>0.000000</td>\n",
       "    </tr>\n",
       "    <tr>\n",
       "      <th>1</th>\n",
       "      <td>187</td>\n",
       "      <td>2.539365</td>\n",
       "    </tr>\n",
       "    <tr>\n",
       "      <th>2</th>\n",
       "      <td>152</td>\n",
       "      <td>4.033053</td>\n",
       "    </tr>\n",
       "    <tr>\n",
       "      <th>3</th>\n",
       "      <td>63</td>\n",
       "      <td>8.700728</td>\n",
       "    </tr>\n",
       "    <tr>\n",
       "      <th>4</th>\n",
       "      <td>132</td>\n",
       "      <td>4.927104</td>\n",
       "    </tr>\n",
       "    <tr>\n",
       "      <th>...</th>\n",
       "      <td>...</td>\n",
       "      <td>...</td>\n",
       "    </tr>\n",
       "    <tr>\n",
       "      <th>196</th>\n",
       "      <td>8</td>\n",
       "      <td>9.756861</td>\n",
       "    </tr>\n",
       "    <tr>\n",
       "      <th>197</th>\n",
       "      <td>17</td>\n",
       "      <td>9.662923</td>\n",
       "    </tr>\n",
       "    <tr>\n",
       "      <th>198</th>\n",
       "      <td>186</td>\n",
       "      <td>2.562060</td>\n",
       "    </tr>\n",
       "    <tr>\n",
       "      <th>199</th>\n",
       "      <td>85</td>\n",
       "      <td>7.986521</td>\n",
       "    </tr>\n",
       "    <tr>\n",
       "      <th>200</th>\n",
       "      <td>95</td>\n",
       "      <td>7.311334</td>\n",
       "    </tr>\n",
       "  </tbody>\n",
       "</table>\n",
       "<p>201 rows × 2 columns</p>\n",
       "</div>"
      ]
     },
     "execution_count": 21,
     "metadata": {},
     "output_type": "execute_result"
    }
   ],
   "execution_count": 21
  },
  {
   "metadata": {
    "ExecuteTime": {
     "end_time": "2024-08-01T14:11:17.139818Z",
     "start_time": "2024-08-01T14:11:17.038963Z"
    }
   },
   "cell_type": "code",
   "source": [
    "sample_ids = pd.read_csv(sim_data_path+'newick_output_sample_population.tsv', sep='\\t', header=None)[0].to_numpy()\n",
    "sample_times = date_data[date_data['strain'].isin(sample_ids)]\n",
    "sample_ids.shape"
   ],
   "id": "e28387333c39210e",
   "outputs": [
    {
     "data": {
      "text/plain": [
       "(201,)"
      ]
     },
     "execution_count": 24,
     "metadata": {},
     "output_type": "execute_result"
    }
   ],
   "execution_count": 24
  }
 ],
 "metadata": {
  "kernelspec": {
   "display_name": "Python 3",
   "language": "python",
   "name": "python3"
  },
  "language_info": {
   "codemirror_mode": {
    "name": "ipython",
    "version": 2
   },
   "file_extension": ".py",
   "mimetype": "text/x-python",
   "name": "python",
   "nbconvert_exporter": "python",
   "pygments_lexer": "ipython2",
   "version": "2.7.6"
  }
 },
 "nbformat": 4,
 "nbformat_minor": 5
}
