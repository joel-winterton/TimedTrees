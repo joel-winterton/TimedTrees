{
 "cells": [
  {
   "metadata": {},
   "cell_type": "markdown",
   "source": [
    "# Least Squares Dating \n",
    "This script reformats simulation data that is outputted from SuperSimPy into a format that IQTree will accept. \n",
    "\n",
    "Method data being prepared for: \n",
    "\n",
    "*Thu-Hien To, Matthieu Jung, Samantha Lycett, Olivier Gascuel, Fast Dating Using Least-Squares Criteria and Algorithms, Systematic Biology, Volume 65, Issue 1, January 2016, Pages 82–97, https://doi.org/10.1093/sysbio/syv068*"
   ],
   "id": "bd888186f9fe41ed"
  },
  {
   "metadata": {
    "ExecuteTime": {
     "end_time": "2024-08-01T12:38:52.824217Z",
     "start_time": "2024-08-01T12:38:52.809147Z"
    }
   },
   "cell_type": "code",
   "source": [
    "# Enter the absolute path of the directory with all the SuperSimPy output data in it\n",
    "sim_data_path = '/home/joel/EBI/SuperSimPy/data/'"
   ],
   "id": "e98583fc5e57b828",
   "outputs": [],
   "execution_count": 11
  },
  {
   "metadata": {},
   "cell_type": "markdown",
   "source": [
    "The outputted file from this script is referred to as \"datefile\". \n",
    "The command to run after this data is then (inside the datafolder): \n",
    "\n",
    "```iqtree2 -s sim.txt --date datefile.txt -te newick_output_tree.nwk```"
   ],
   "id": "79d3992048bc7a19"
  },
  {
   "cell_type": "code",
   "id": "initial_id",
   "metadata": {
    "collapsed": true,
    "ExecuteTime": {
     "end_time": "2024-08-01T12:38:54.258815Z",
     "start_time": "2024-08-01T12:38:54.224555Z"
    }
   },
   "source": [
    "import pandas as pd\n",
    "sim_metadata = pd.read_csv(sim_data_path+'newick_output_metadata.tsv', sep='\\t')\n",
    "date_data = sim_metadata[['strain','time']]\n",
    "date_data.to_csv(sim_data_path + 'datefile.txt', index=False, sep='\\t', header=None)"
   ],
   "outputs": [],
   "execution_count": 12
  }
 ],
 "metadata": {
  "kernelspec": {
   "display_name": "Python 3",
   "language": "python",
   "name": "python3"
  },
  "language_info": {
   "codemirror_mode": {
    "name": "ipython",
    "version": 2
   },
   "file_extension": ".py",
   "mimetype": "text/x-python",
   "name": "python",
   "nbconvert_exporter": "python",
   "pygments_lexer": "ipython2",
   "version": "2.7.6"
  }
 },
 "nbformat": 4,
 "nbformat_minor": 5
}
