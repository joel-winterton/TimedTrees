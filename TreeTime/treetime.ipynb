{
 "cells": [
  {
   "cell_type": "code",
   "id": "initial_id",
   "metadata": {
    "collapsed": true,
    "ExecuteTime": {
     "end_time": "2024-08-12T14:46:10.460880Z",
     "start_time": "2024-08-12T14:46:09.594239Z"
    }
   },
   "source": "import pandas as pd",
   "outputs": [],
   "execution_count": 11
  },
  {
   "metadata": {
    "ExecuteTime": {
     "end_time": "2024-08-12T14:47:29.730848Z",
     "start_time": "2024-08-12T14:47:29.714005Z"
    }
   },
   "cell_type": "code",
   "source": [
    "sim_data_path = '/home/joel/EBI/SuperSimPy/data/'\n",
    "start_year = 2024\n",
    "datefile = pd.read_csv(sim_data_path+'datefile.txt', header=None, sep=' ')\n",
    "datefile.columns = ['name', 'date']\n"
   ],
   "id": "299e2ba7530891",
   "outputs": [],
   "execution_count": 17
  }
 ],
 "metadata": {
  "kernelspec": {
   "display_name": "Python 3",
   "language": "python",
   "name": "python3"
  },
  "language_info": {
   "codemirror_mode": {
    "name": "ipython",
    "version": 2
   },
   "file_extension": ".py",
   "mimetype": "text/x-python",
   "name": "python",
   "nbconvert_exporter": "python",
   "pygments_lexer": "ipython2",
   "version": "2.7.6"
  }
 },
 "nbformat": 4,
 "nbformat_minor": 5
}
