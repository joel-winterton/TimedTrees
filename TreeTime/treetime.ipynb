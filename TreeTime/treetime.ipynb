{
 "cells": [
  {
   "cell_type": "code",
   "id": "initial_id",
   "metadata": {
    "collapsed": true,
    "ExecuteTime": {
     "end_time": "2024-09-02T14:23:09.980699Z",
     "start_time": "2024-09-02T14:23:09.508549Z"
    }
   },
   "source": "from Bio import Phylo",
   "outputs": [],
   "execution_count": 2
  },
  {
   "metadata": {
    "ExecuteTime": {
     "end_time": "2024-09-02T14:38:35.728577Z",
     "start_time": "2024-09-02T14:38:35.693137Z"
    }
   },
   "cell_type": "code",
   "source": [
    "tree = Phylo.read('/home/joel/EBI/SuperSimPy/output/sim.substitutions.tree', 'newick', rooted=True)\n",
    "name_dict = {}\n",
    "name_set = {n.name for n in tree.find_clades() if n.name}\n",
    "internal_node_count = 0\n",
    "for clade in tree.get_nonterminals(order='preorder'):  # parents first\n",
    "    if clade.name is None:\n",
    "        tmp = \"NODE_\" + format(internal_node_count, '07d')\n",
    "        while tmp in name_set:\n",
    "            internal_node_count += 1\n",
    "            tmp = \"NODE_\" + format(internal_node_count, '07d')\n",
    "        clade.name = tmp\n",
    "        name_set.add(clade.name)\n",
    "        name_dict[clade.name] = int(clade.confidence)\n",
    "    else:\n",
    "        name_dict[clade.name] = int(clade.name)\n",
    "    internal_node_count += 1\n",
    "    for c in clade.clades:\n",
    "        c.up = clade"
   ],
   "id": "59ea760ae925e49d",
   "outputs": [],
   "execution_count": 8
  },
  {
   "metadata": {
    "ExecuteTime": {
     "end_time": "2024-09-02T14:38:45.885679Z",
     "start_time": "2024-09-02T14:38:45.833474Z"
    }
   },
   "cell_type": "code",
   "source": "name_dict",
   "id": "8936ebb33dbbb9fe",
   "outputs": [
    {
     "data": {
      "text/plain": [
       "{'NODE_0000000': 200,\n",
       " 'NODE_0000001': 187,\n",
       " 'NODE_0000002': 185,\n",
       " 'NODE_0000003': 171,\n",
       " 'NODE_0000004': 149,\n",
       " 'NODE_0000005': 154,\n",
       " 'NODE_0000006': 141,\n",
       " 'NODE_0000007': 127,\n",
       " 'NODE_0000008': 120,\n",
       " 'NODE_0000009': 182,\n",
       " 'NODE_0000010': 177,\n",
       " 'NODE_0000011': 173,\n",
       " 'NODE_0000012': 167,\n",
       " 'NODE_0000013': 199,\n",
       " 'NODE_0000014': 196,\n",
       " 'NODE_0000015': 192,\n",
       " 'NODE_0000016': 176,\n",
       " 'NODE_0000017': 132,\n",
       " 'NODE_0000018': 118,\n",
       " 'NODE_0000019': 172,\n",
       " 'NODE_0000020': 105,\n",
       " 'NODE_0000021': 100,\n",
       " 'NODE_0000022': 104,\n",
       " 'NODE_0000023': 163,\n",
       " 'NODE_0000024': 157,\n",
       " 'NODE_0000025': 124,\n",
       " 'NODE_0000026': 114,\n",
       " 'NODE_0000027': 110,\n",
       " 'NODE_0000028': 93,\n",
       " 'NODE_0000029': 102,\n",
       " 'NODE_0000030': 112,\n",
       " 'NODE_0000031': 108,\n",
       " 'NODE_0000032': 111,\n",
       " 'NODE_0000033': 101,\n",
       " 'NODE_0000034': 109,\n",
       " 'NODE_0000035': 160,\n",
       " 'NODE_0000036': 125,\n",
       " 'NODE_0000037': 191,\n",
       " 'NODE_0000038': 139,\n",
       " 'NODE_0000039': 137,\n",
       " 'NODE_0000040': 136,\n",
       " 'NODE_0000041': 164,\n",
       " 'NODE_0000042': 128,\n",
       " 'NODE_0000043': 162,\n",
       " 'NODE_0000044': 155,\n",
       " 'NODE_0000045': 195,\n",
       " 'NODE_0000046': 165,\n",
       " 'NODE_0000047': 175,\n",
       " 'NODE_0000048': 117,\n",
       " 'NODE_0000049': 159,\n",
       " 'NODE_0000050': 198,\n",
       " 'NODE_0000051': 169,\n",
       " 'NODE_0000052': 119,\n",
       " 'NODE_0000053': 197,\n",
       " 'NODE_0000054': 180,\n",
       " 'NODE_0000055': 106,\n",
       " 'NODE_0000056': 116,\n",
       " 'NODE_0000057': 113,\n",
       " 'NODE_0000058': 194,\n",
       " 'NODE_0000059': 188,\n",
       " 'NODE_0000060': 174,\n",
       " 'NODE_0000061': 143,\n",
       " 'NODE_0000062': 178,\n",
       " 'NODE_0000063': 166,\n",
       " 'NODE_0000064': 146,\n",
       " 'NODE_0000065': 121,\n",
       " 'NODE_0000066': 122,\n",
       " 'NODE_0000067': 161,\n",
       " 'NODE_0000068': 168,\n",
       " 'NODE_0000069': 152,\n",
       " 'NODE_0000070': 138,\n",
       " 'NODE_0000071': 148,\n",
       " 'NODE_0000072': 140,\n",
       " 'NODE_0000073': 193,\n",
       " 'NODE_0000074': 190,\n",
       " 'NODE_0000075': 142,\n",
       " 'NODE_0000076': 133,\n",
       " 'NODE_0000077': 189,\n",
       " 'NODE_0000078': 183,\n",
       " 'NODE_0000079': 158,\n",
       " 'NODE_0000080': 151,\n",
       " 'NODE_0000081': 150,\n",
       " 'NODE_0000082': 179,\n",
       " 'NODE_0000083': 147,\n",
       " 'NODE_0000084': 131,\n",
       " 'NODE_0000085': 129,\n",
       " 'NODE_0000086': 115,\n",
       " 'NODE_0000087': 134,\n",
       " 'NODE_0000088': 186,\n",
       " 'NODE_0000089': 184,\n",
       " 'NODE_0000090': 170,\n",
       " 'NODE_0000091': 145,\n",
       " 'NODE_0000092': 144,\n",
       " 'NODE_0000093': 135,\n",
       " 'NODE_0000094': 156,\n",
       " 'NODE_0000095': 153,\n",
       " 'NODE_0000096': 123,\n",
       " 'NODE_0000097': 181,\n",
       " 'NODE_0000098': 126,\n",
       " 'NODE_0000099': 130}"
      ]
     },
     "execution_count": 9,
     "metadata": {},
     "output_type": "execute_result"
    }
   ],
   "execution_count": 9
  }
 ],
 "metadata": {
  "kernelspec": {
   "display_name": "Python 3",
   "language": "python",
   "name": "python3"
  },
  "language_info": {
   "codemirror_mode": {
    "name": "ipython",
    "version": 2
   },
   "file_extension": ".py",
   "mimetype": "text/x-python",
   "name": "python",
   "nbconvert_exporter": "python",
   "pygments_lexer": "ipython2",
   "version": "2.7.6"
  }
 },
 "nbformat": 4,
 "nbformat_minor": 5
}
