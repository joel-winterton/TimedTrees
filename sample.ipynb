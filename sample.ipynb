{
 "cells": [
  {
   "metadata": {},
   "cell_type": "markdown",
   "source": [
    "# General setup \n",
    "This script takes simulation data directory from SuperSimPy and outputs the data needed for timed tree estimation.\n",
    "This includes\n",
    "1. Creating a sampling only times list.\n",
    "2. Rescaling `sim.tree` to be mutations per site. \n"
   ],
   "id": "8a77807f92f26ee"
  },
  {
   "metadata": {},
   "cell_type": "markdown",
   "source": "## Sampling times",
   "id": "5f00647bf2e7240f"
  },
  {
   "metadata": {
    "ExecuteTime": {
     "end_time": "2024-08-02T11:23:17.370206Z",
     "start_time": "2024-08-02T11:23:16.970493Z"
    }
   },
   "cell_type": "code",
   "source": [
    "from ete3 import Tree\n",
    "from Bio import Phylo\n",
    "import pandas as pd\n",
    "import numpy as np\n",
    "sim_data_path = '/home/joel/EBI/SuperSimPy/data/'\n",
    "tree = Tree(sim_data_path+'newick_output_tree.nwk')\n",
    "metadata = pd.read_csv(sim_data_path+'newick_output_metadata.tsv', sep='\\t')"
   ],
   "id": "fbc121e30a2defb3",
   "outputs": [],
   "execution_count": 7
  },
  {
   "metadata": {
    "ExecuteTime": {
     "end_time": "2024-08-02T11:20:51.552762Z",
     "start_time": "2024-08-02T11:20:51.533634Z"
    }
   },
   "cell_type": "code",
   "source": [
    "leaves = np.array(tree.get_leaves())\n",
    "namer = np.vectorize(lambda x: x.name)\n",
    "sample_ids = namer(leaves)"
   ],
   "id": "838f3f41dcd59ccc",
   "outputs": [],
   "execution_count": 4
  },
  {
   "metadata": {
    "ExecuteTime": {
     "end_time": "2024-08-02T11:20:52.761220Z",
     "start_time": "2024-08-02T11:20:52.712874Z"
    }
   },
   "cell_type": "code",
   "source": [
    "sample_times = metadata[metadata['strain'].isin(sample_ids)][['strain', 'time']]\n",
    "sample_times.to_csv(sim_data_path + 'datefile.txt', index=False, sep='\\t', header=None)"
   ],
   "id": "e9c0871665fd6be9",
   "outputs": [],
   "execution_count": 5
  },
  {
   "metadata": {},
   "cell_type": "markdown",
   "source": [
    "```shell\n",
    "/home/joel/EBI/lsd2/src/lsd2 -i sim.tree -d datefile.txt -a 0 -s 31101\n",
    "```"
   ],
   "id": "fa7b6537f4348b94"
  },
  {
   "metadata": {},
   "cell_type": "markdown",
   "source": "## Tree rescaling ",
   "id": "80283301f793fc47"
  },
  {
   "metadata": {
    "ExecuteTime": {
     "end_time": "2024-08-02T11:28:30.639032Z",
     "start_time": "2024-08-02T11:28:30.601520Z"
    }
   },
   "cell_type": "code",
   "source": [
    "genome_length = 31101\n",
    "mut_tree = Phylo.read(sim_data_path+'sim.tree', 'newick')\n",
    "mut_tree.clade.clades"
   ],
   "id": "4e27b3bae28cdd50",
   "outputs": [
    {
     "data": {
      "text/plain": [
       "[Clade(branch_length=2.5393652536720692, comment='&mutations={G12163T,G9910A,A18459G,T19473C,C2838T,T22195C...'),\n",
       " Clade(branch_length=0.554599667284565, comment='&mutations={T1552C}')]"
      ]
     },
     "execution_count": 23,
     "metadata": {},
     "output_type": "execute_result"
    }
   ],
   "execution_count": 23
  },
  {
   "metadata": {
    "ExecuteTime": {
     "end_time": "2024-08-02T11:32:38.466031Z",
     "start_time": "2024-08-02T11:32:38.446416Z"
    }
   },
   "cell_type": "code",
   "source": [
    "def subs_per_site(mutation_comment):\n",
    "    return (mutation_comment.count(',') + 1)/genome_length"
   ],
   "id": "732f26a83f5c88b7",
   "outputs": [],
   "execution_count": 30
  },
  {
   "metadata": {
    "ExecuteTime": {
     "end_time": "2024-08-02T11:33:06.627327Z",
     "start_time": "2024-08-02T11:33:06.595869Z"
    }
   },
   "cell_type": "code",
   "source": [
    "def subs_per_site_tree(root):\n",
    "    stack = [root.clade]\n",
    "    while stack:\n",
    "        node = stack.pop()\n",
    "        node.branch_length = subs_per_site(node.comment)\n",
    "        if not node.is_terminal():\n",
    "            for clade in node.clades:\n",
    "                stack.append(clade)\n",
    "    return root"
   ],
   "id": "53abf3fab46f2052",
   "outputs": [],
   "execution_count": 33
  },
  {
   "metadata": {
    "ExecuteTime": {
     "end_time": "2024-08-02T11:35:19.919876Z",
     "start_time": "2024-08-02T11:35:19.882358Z"
    }
   },
   "cell_type": "code",
   "source": [
    "rescaled_tree = subs_per_site_tree(mut_tree)\n",
    "Phylo.write(rescaled_tree, sim_data_path + 'sim.substitutions.tree', 'newick');"
   ],
   "id": "bca333760245505f",
   "outputs": [],
   "execution_count": 39
  }
 ],
 "metadata": {
  "kernelspec": {
   "display_name": "Python 3",
   "language": "python",
   "name": "python3"
  },
  "language_info": {
   "codemirror_mode": {
    "name": "ipython",
    "version": 2
   },
   "file_extension": ".py",
   "mimetype": "text/x-python",
   "name": "python",
   "nbconvert_exporter": "python",
   "pygments_lexer": "ipython2",
   "version": "2.7.6"
  }
 },
 "nbformat": 4,
 "nbformat_minor": 5
}
